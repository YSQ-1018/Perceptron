{
 "cells": [
  {
   "cell_type": "markdown",
   "metadata": {},
   "source": [
    "# Perceptron实现分类"
   ]
  },
  {
   "cell_type": "markdown",
   "metadata": {},
   "source": [
    "## 数据集使用Iris"
   ]
  },
  {
   "cell_type": "code",
   "execution_count": 267,
   "metadata": {},
   "outputs": [],
   "source": [
    "import numpy as np\n",
    "import pandas as pd\n",
    "import matplotlib.pyplot as plt\n",
    "from sklearn.model_selection import StratifiedKFold #分层交叉验证\n",
    "import seaborn as sn"
   ]
  },
  {
   "cell_type": "code",
   "execution_count": 268,
   "metadata": {},
   "outputs": [
    {
     "data": {
      "text/html": [
       "<div>\n",
       "<style scoped>\n",
       "    .dataframe tbody tr th:only-of-type {\n",
       "        vertical-align: middle;\n",
       "    }\n",
       "\n",
       "    .dataframe tbody tr th {\n",
       "        vertical-align: top;\n",
       "    }\n",
       "\n",
       "    .dataframe thead th {\n",
       "        text-align: right;\n",
       "    }\n",
       "</style>\n",
       "<table border=\"1\" class=\"dataframe\">\n",
       "  <thead>\n",
       "    <tr style=\"text-align: right;\">\n",
       "      <th></th>\n",
       "      <th>sepal length</th>\n",
       "      <th>sepal width</th>\n",
       "      <th>petal length</th>\n",
       "      <th>petal width</th>\n",
       "      <th>class</th>\n",
       "    </tr>\n",
       "  </thead>\n",
       "  <tbody>\n",
       "    <tr>\n",
       "      <th>0</th>\n",
       "      <td>5.1</td>\n",
       "      <td>3.5</td>\n",
       "      <td>1.4</td>\n",
       "      <td>0.2</td>\n",
       "      <td>Iris-setosa</td>\n",
       "    </tr>\n",
       "    <tr>\n",
       "      <th>1</th>\n",
       "      <td>4.9</td>\n",
       "      <td>3.0</td>\n",
       "      <td>1.4</td>\n",
       "      <td>0.2</td>\n",
       "      <td>Iris-setosa</td>\n",
       "    </tr>\n",
       "    <tr>\n",
       "      <th>2</th>\n",
       "      <td>4.7</td>\n",
       "      <td>3.2</td>\n",
       "      <td>1.3</td>\n",
       "      <td>0.2</td>\n",
       "      <td>Iris-setosa</td>\n",
       "    </tr>\n",
       "    <tr>\n",
       "      <th>3</th>\n",
       "      <td>4.6</td>\n",
       "      <td>3.1</td>\n",
       "      <td>1.5</td>\n",
       "      <td>0.2</td>\n",
       "      <td>Iris-setosa</td>\n",
       "    </tr>\n",
       "    <tr>\n",
       "      <th>4</th>\n",
       "      <td>5.0</td>\n",
       "      <td>3.6</td>\n",
       "      <td>1.4</td>\n",
       "      <td>0.2</td>\n",
       "      <td>Iris-setosa</td>\n",
       "    </tr>\n",
       "  </tbody>\n",
       "</table>\n",
       "</div>"
      ],
      "text/plain": [
       "   sepal length  sepal width  petal length  petal width        class\n",
       "0           5.1          3.5           1.4          0.2  Iris-setosa\n",
       "1           4.9          3.0           1.4          0.2  Iris-setosa\n",
       "2           4.7          3.2           1.3          0.2  Iris-setosa\n",
       "3           4.6          3.1           1.5          0.2  Iris-setosa\n",
       "4           5.0          3.6           1.4          0.2  Iris-setosa"
      ]
     },
     "execution_count": 268,
     "metadata": {},
     "output_type": "execute_result"
    }
   ],
   "source": [
    "path = '/home/ysq/桌面/感知机/iris.data'\n",
    "names = ['sepal length','sepal width','petal length','petal width','class']\n",
    "df = pd.read_csv(path,names=names)\n",
    "df.head()"
   ]
  },
  {
   "cell_type": "code",
   "execution_count": 269,
   "metadata": {},
   "outputs": [
    {
     "data": {
      "text/html": [
       "<div>\n",
       "<style scoped>\n",
       "    .dataframe tbody tr th:only-of-type {\n",
       "        vertical-align: middle;\n",
       "    }\n",
       "\n",
       "    .dataframe tbody tr th {\n",
       "        vertical-align: top;\n",
       "    }\n",
       "\n",
       "    .dataframe thead th {\n",
       "        text-align: right;\n",
       "    }\n",
       "</style>\n",
       "<table border=\"1\" class=\"dataframe\">\n",
       "  <thead>\n",
       "    <tr style=\"text-align: right;\">\n",
       "      <th></th>\n",
       "      <th>sepal length</th>\n",
       "      <th>sepal width</th>\n",
       "      <th>petal length</th>\n",
       "      <th>petal width</th>\n",
       "    </tr>\n",
       "  </thead>\n",
       "  <tbody>\n",
       "    <tr>\n",
       "      <th>count</th>\n",
       "      <td>150.000000</td>\n",
       "      <td>150.000000</td>\n",
       "      <td>150.000000</td>\n",
       "      <td>150.000000</td>\n",
       "    </tr>\n",
       "    <tr>\n",
       "      <th>mean</th>\n",
       "      <td>5.843333</td>\n",
       "      <td>3.054000</td>\n",
       "      <td>3.758667</td>\n",
       "      <td>1.198667</td>\n",
       "    </tr>\n",
       "    <tr>\n",
       "      <th>std</th>\n",
       "      <td>0.828066</td>\n",
       "      <td>0.433594</td>\n",
       "      <td>1.764420</td>\n",
       "      <td>0.763161</td>\n",
       "    </tr>\n",
       "    <tr>\n",
       "      <th>min</th>\n",
       "      <td>4.300000</td>\n",
       "      <td>2.000000</td>\n",
       "      <td>1.000000</td>\n",
       "      <td>0.100000</td>\n",
       "    </tr>\n",
       "    <tr>\n",
       "      <th>25%</th>\n",
       "      <td>5.100000</td>\n",
       "      <td>2.800000</td>\n",
       "      <td>1.600000</td>\n",
       "      <td>0.300000</td>\n",
       "    </tr>\n",
       "    <tr>\n",
       "      <th>50%</th>\n",
       "      <td>5.800000</td>\n",
       "      <td>3.000000</td>\n",
       "      <td>4.350000</td>\n",
       "      <td>1.300000</td>\n",
       "    </tr>\n",
       "    <tr>\n",
       "      <th>75%</th>\n",
       "      <td>6.400000</td>\n",
       "      <td>3.300000</td>\n",
       "      <td>5.100000</td>\n",
       "      <td>1.800000</td>\n",
       "    </tr>\n",
       "    <tr>\n",
       "      <th>max</th>\n",
       "      <td>7.900000</td>\n",
       "      <td>4.400000</td>\n",
       "      <td>6.900000</td>\n",
       "      <td>2.500000</td>\n",
       "    </tr>\n",
       "  </tbody>\n",
       "</table>\n",
       "</div>"
      ],
      "text/plain": [
       "       sepal length  sepal width  petal length  petal width\n",
       "count    150.000000   150.000000    150.000000   150.000000\n",
       "mean       5.843333     3.054000      3.758667     1.198667\n",
       "std        0.828066     0.433594      1.764420     0.763161\n",
       "min        4.300000     2.000000      1.000000     0.100000\n",
       "25%        5.100000     2.800000      1.600000     0.300000\n",
       "50%        5.800000     3.000000      4.350000     1.300000\n",
       "75%        6.400000     3.300000      5.100000     1.800000\n",
       "max        7.900000     4.400000      6.900000     2.500000"
      ]
     },
     "execution_count": 269,
     "metadata": {},
     "output_type": "execute_result"
    }
   ],
   "source": [
    "df.describe()"
   ]
  },
  {
   "cell_type": "code",
   "execution_count": 270,
   "metadata": {},
   "outputs": [
    {
     "data": {
      "image/png": "[encoded data removed]",
      "text/plain": [
       "<Figure size 432x288 with 1 Axes>"
      ]
     },
     "metadata": {
      "needs_background": "light"
     },
     "output_type": "display_data"
    }
   ],
   "source": [
    "#展示离群点\n",
    "%matplotlib inline\n",
    "df.boxplot()\n",
    "plt.show()"
   ]
  },
  {
   "cell_type": "markdown",
   "metadata": {},
   "source": [
    "## 为类别进行编码"
   ]
  },
  {
   "cell_type": "code",
   "execution_count": 271,
   "metadata": {},
   "outputs": [
    {
     "name": "stderr",
     "output_type": "stream",
     "text": [
      "/home/ysq/anaconda3/lib/python3.7/site-packages/sklearn/preprocessing/label.py:111: DataConversionWarning: A column-vector y was passed when a 1d array was expected. Please change the shape of y to (n_samples, ), for example using ravel().\n",
      "  y = column_or_1d(y, warn=True)\n"
     ]
    }
   ],
   "source": [
    "from sklearn.preprocessing import LabelEncoder\n",
    "encoder = LabelEncoder()#编码器\n",
    "label = df.values[:,-1:]\n",
    "label = encoder.fit_transform(label)#编码"
   ]
  },
  {
   "cell_type": "code",
   "execution_count": 272,
   "metadata": {},
   "outputs": [
    {
     "data": {
      "text/plain": [
       "array([0, 0, 0, 0, 0, 0, 0, 0, 0, 0, 0, 0, 0, 0, 0, 0, 0, 0, 0, 0, 0, 0,\n",
       "       0, 0, 0, 0, 0, 0, 0, 0, 0, 0, 0, 0, 0, 0, 0, 0, 0, 0, 0, 0, 0, 0,\n",
       "       0, 0, 0, 0, 0, 0, 1, 1, 1, 1, 1, 1, 1, 1, 1, 1, 1, 1, 1, 1, 1, 1,\n",
       "       1, 1, 1, 1, 1, 1, 1, 1, 1, 1, 1, 1, 1, 1, 1, 1, 1, 1, 1, 1, 1, 1,\n",
       "       1, 1, 1, 1, 1, 1, 1, 1, 1, 1, 1, 1, 2, 2, 2, 2, 2, 2, 2, 2, 2, 2,\n",
       "       2, 2, 2, 2, 2, 2, 2, 2, 2, 2, 2, 2, 2, 2, 2, 2, 2, 2, 2, 2, 2, 2,\n",
       "       2, 2, 2, 2, 2, 2, 2, 2, 2, 2, 2, 2, 2, 2, 2, 2, 2, 2])"
      ]
     },
     "execution_count": 272,
     "metadata": {},
     "output_type": "execute_result"
    }
   ],
   "source": [
    "label"
   ]
  },
  {
   "cell_type": "markdown",
   "metadata": {},
   "source": [
    "## 取出数据，并对数据进行标准化处理"
   ]
  },
  {
   "cell_type": "code",
   "execution_count": 273,
   "metadata": {},
   "outputs": [
    {
     "name": "stderr",
     "output_type": "stream",
     "text": [
      "/home/ysq/anaconda3/lib/python3.7/site-packages/sklearn/utils/validation.py:475: DataConversionWarning: Data with input dtype object was converted to float64 by StandardScaler.\n",
      "  warnings.warn(msg, DataConversionWarning)\n",
      "/home/ysq/anaconda3/lib/python3.7/site-packages/sklearn/utils/validation.py:475: DataConversionWarning: Data with input dtype object was converted to float64 by StandardScaler.\n",
      "  warnings.warn(msg, DataConversionWarning)\n"
     ]
    },
    {
     "data": {
      "text/plain": [
       "(150, 4)"
      ]
     },
     "execution_count": 273,
     "metadata": {},
     "output_type": "execute_result"
    }
   ],
   "source": [
    "from sklearn.preprocessing import StandardScaler#标准化\n",
    "features = df.values[:,:-1]\n",
    "standard = StandardScaler()#标准化\n",
    "features = standard.fit_transform(features)\n",
    "features.shape"
   ]
  },
  {
   "cell_type": "markdown",
   "metadata": {},
   "source": [
    "## 数据可视化"
   ]
  },
  {
   "cell_type": "code",
   "execution_count": 274,
   "metadata": {},
   "outputs": [
    {
     "data": {
      "image/png": "[encoded data removed]",
      "text/plain": [
       "<Figure size 432x288 with 1 Axes>"
      ]
     },
     "metadata": {
      "needs_background": "light"
     },
     "output_type": "display_data"
    },
    {
     "data": {
      "image/png": "[encoded data removed]",
      "text/plain": [
       "<Figure size 432x288 with 1 Axes>"
      ]
     },
     "metadata": {
      "needs_background": "light"
     },
     "output_type": "display_data"
    },
    {
     "data": {
      "image/png": "[encoded data removed]",
      "text/plain": [
       "<Figure size 432x288 with 1 Axes>"
      ]
     },
     "metadata": {
      "needs_background": "light"
     },
     "output_type": "display_data"
    }
   ],
   "source": [
    "def visualization_data(feature1,feature2):\n",
    "    #获取第一类花的数据\n",
    "    x1 = feature1[:50]\n",
    "    x2 = feature2[:50]\n",
    "    #第二类花的数据\n",
    "    y1 = feature1[50:100]\n",
    "    y2 = feature2[50:100]\n",
    "    #第三类\n",
    "    z1 = feature1[100:150]\n",
    "    z2 = feature2[100:150]\n",
    "    #画图\n",
    "    plt.grid()\n",
    "    plt.scatter(x1,x2,marker = 'x',color = 'red',s = 40,label = 'Iris-setosa')\n",
    "    plt.scatter(y1,y2,marker = '+',color = 'blue',s = 40,label = 'Iris-Versicolor')\n",
    "    plt.scatter(z1,z2,marker = 'o',color = 'green',s = 40,label = 'Iris-Virginica')\n",
    "    leg = plt.legend(loc='upper left', fancybox=True)\n",
    "    plt.show()\n",
    "\n",
    "feature1 = features[:,0:1]\n",
    "feature2 = features[:,1:2]\n",
    "feature3 = features[:,2:3]\n",
    "feature4 = features[:,3:4]\n",
    "\n",
    "plt.xlabel('sepal length')\n",
    "plt.ylabel('sepal width')\n",
    "visualization_data(feature1,feature2) \n",
    "\n",
    "plt.xlabel('sepal length')\n",
    "plt.ylabel('petal length')\n",
    "visualization_data(feature1,feature3)\n",
    "\n",
    "plt.xlabel('sepal length')\n",
    "plt.ylabel('petal width')\n",
    "visualization_data(feature1,feature4)"
   ]
  },
  {
   "cell_type": "markdown",
   "metadata": {},
   "source": [
    "## 构建感知机算法"
   ]
  },
  {
   "cell_type": "code",
   "execution_count": 275,
   "metadata": {},
   "outputs": [],
   "source": [
    "class Perceptron:\n",
    "    \"\"\"\n",
    "        感知机算法，对数据进行二分类\n",
    "    \"\"\"\n",
    "    def __init__(self,data,label,test_data,test_label):\n",
    "        \"\"\"\n",
    "            注意，此感知机仅能实现线性可分的二分类问题，Iris数据集有三类，是一个多分类问题，\n",
    "            需要C(3,2)=3个二分类器来实现，\n",
    "            此处参数说明如下:\n",
    "            ---------------------\n",
    "            data:三类数据中某两类数据的feature数据\n",
    "            label:传入数据对应的两个标签\n",
    "            test_data:测试数据\n",
    "            test_label:测试标签\n",
    "        \"\"\"\n",
    "        self.data = data\n",
    "        self.label = label\n",
    "        self.test_data = test_data\n",
    "        self.test_label = test_label\n",
    "\n",
    "    def augment_data(self):\n",
    "        \"\"\"\n",
    "            对数据进行增广处理，在第一列增加全1列向量作为偏置\n",
    "        \"\"\"\n",
    "        lenth = self.data.shape[0]#获取列向量应该具有的长度\n",
    "        one_vector = np.ones(lenth).reshape(-1,1)#产生列向量\n",
    "        self.data = np.concatenate((one_vector,self.data),axis=1)#按列合并，对数据增广\n",
    "        lenth2 = self.test_data.shape[0]\n",
    "        one_vector2 = np.ones(lenth2).reshape(-1,1)#产生列向量\n",
    "        self.test_data = np.concatenate((one_vector2,self.test_data),axis=1)#按列合并，对数据增广\n",
    "    \n",
    "    def train(self):\n",
    "        \"\"\"\n",
    "            初始化权重并训练\n",
    "        \"\"\"\n",
    "        #先对特征进行增广\n",
    "        self.augment_data()\n",
    "        #权重初始化\n",
    "        self.w = np.zeros(self.data.shape[1]).reshape(-1,1)#权重向量初始化为0列向量\n",
    "        \n",
    "        #建立一个训练时使用的标签{+1,-1}\n",
    "        lenth = self.label.shape[0]\n",
    "        #正例标签+1\n",
    "        positive = np.array([1 for i in range(lenth//2)]).reshape(-1,1)\n",
    "        #反例标签-1\n",
    "        negative = np.array([-1 for i in range(lenth//2)]).reshape(-1,1)\n",
    "        #训练时使用的标签\n",
    "        training_label = np.concatenate((positive,negative),axis=0)\n",
    "        #本轮是否犯错的指标\n",
    "        flag = True#初始化为犯错\n",
    "        \n",
    "        #最大迭代次数\n",
    "        maxiter = 1000\n",
    "        current_iter = 0\n",
    "        while flag and current_iter<maxiter:#当权重在分类时仍犯错,遍历训练集\n",
    "            count = 0\n",
    "            for i in range(self.data.shape[0]):#遍历每个训练样本\n",
    "                sample_vector = self.data[i].reshape(1,-1)#取出样本行向量\n",
    "                output = np.sign(sample_vector@self.w)#计算感知机输出\n",
    "                if output != training_label[i]:#若输出与标签不符，修正\n",
    "                    self.w = self.w + training_label[i]*sample_vector.reshape(-1,1)\n",
    "                elif output == training_label[i]:#若输出与标签相同\n",
    "                    count += 1#计算正确划分样本的个数\n",
    "                if count == self.data.shape[0]:#若全部样本划分正确\n",
    "                    flag = False#更改标志，退出循环\n",
    "            \n",
    "            #修正迭代次数\n",
    "            current_iter += 1\n",
    "                #print(f'本轮正确个数为{count}')\n",
    "        print(f'训练完毕！权重为{self.w}')\n",
    "    \n",
    "    def predict(self,sample):\n",
    "        \"\"\"\n",
    "            使用当前权重对样本sample进行预测\n",
    "        \"\"\"\n",
    "        return np.sign(sample@self.w)\n",
    "    \n",
    "    def test(self):\n",
    "        \"\"\"\n",
    "            对训练好的模型进行测试\n",
    "        \"\"\"\n",
    "         #建立一个测试时使用的标签{+1,-1}\n",
    "        lenth = self.test_label.shape[0]\n",
    "        #正例标签+1\n",
    "        positive = np.array([1 for i in range(lenth//2)]).reshape(-1,1)\n",
    "        #反例标签-1\n",
    "        negative = np.array([-1 for i in range(lenth//2)]).reshape(-1,1)\n",
    "        #训练时使用的标签\n",
    "        test_label = np.concatenate((positive,negative),axis=0)\n",
    "        \n",
    "        pos_pos = 0#正例到正例\n",
    "        pos_neg = 0#正例到反例\n",
    "        neg_pos = 0#反例到正例\n",
    "        neg_neg = 0#反例到反例\n",
    "        for i in range(self.test_data.shape[0]):#遍历测试集\n",
    "            if test_label[i] == 1 and self.predict(self.test_data[i]) == 1:\n",
    "                pos_pos += 1\n",
    "            if test_label[i] == 1 and self.predict(self.test_data[i]) == -1:\n",
    "                pos_neg += 1\n",
    "            if test_label[i] == -1 and self.predict(self.test_data[i]) == 1:\n",
    "                neg_pos += 1\n",
    "            if test_label[i] == -1 and self.predict(self.test_data[i]) == -1:\n",
    "                neg_neg += 1\n",
    "        \n",
    "        confusion_matrix = [[pos_pos,pos_neg],[neg_pos,neg_neg]]\n",
    "        #绘制混淆矩阵\n",
    "        plt.figure(figsize=(5,5))\n",
    "        sn.heatmap(confusion_matrix,annot=True,fmt='d',cmap=plt.cm.Blues)#绘制混淆矩阵\n",
    "        plt.xlabel('Predict',fontsize = 8)\n",
    "        plt.ylabel('Ture',fontsize = 8)\n",
    "        plt.title('Confusion Matrix',fontsize = 10)\n",
    "        plt.show()\n",
    "        \n",
    "    def get_weight(self):\n",
    "        \"\"\"\n",
    "            获取训练好的权重向量\n",
    "        \"\"\"\n",
    "        return self.w"
   ]
  },
  {
   "cell_type": "code",
   "execution_count": null,
   "metadata": {},
   "outputs": [],
   "source": []
  },
  {
   "cell_type": "markdown",
   "metadata": {},
   "source": [
    "## 训练三个分类器"
   ]
  },
  {
   "cell_type": "code",
   "execution_count": 282,
   "metadata": {},
   "outputs": [
    {
     "data": {
      "text/plain": [
       "array([[-9.00681170e-01,  1.03205722e+00, -1.34127240e+00,\n",
       "        -1.31297673e+00],\n",
       "       [-1.14301691e+00, -1.24957601e-01, -1.34127240e+00,\n",
       "        -1.31297673e+00],\n",
       "       [-1.38535265e+00,  3.37848329e-01, -1.39813811e+00,\n",
       "        -1.31297673e+00],\n",
       "       [-1.50652052e+00,  1.06445364e-01, -1.28440670e+00,\n",
       "        -1.31297673e+00],\n",
       "       [-1.02184904e+00,  1.26346019e+00, -1.34127240e+00,\n",
       "        -1.31297673e+00],\n",
       "       [-5.37177559e-01,  1.95766909e+00, -1.17067529e+00,\n",
       "        -1.05003079e+00],\n",
       "       [-1.50652052e+00,  8.00654259e-01, -1.34127240e+00,\n",
       "        -1.18150376e+00],\n",
       "       [-1.02184904e+00,  8.00654259e-01, -1.28440670e+00,\n",
       "        -1.31297673e+00],\n",
       "       [-1.74885626e+00, -3.56360566e-01, -1.34127240e+00,\n",
       "        -1.31297673e+00],\n",
       "       [-1.14301691e+00,  1.06445364e-01, -1.28440670e+00,\n",
       "        -1.44444970e+00],\n",
       "       [-5.37177559e-01,  1.49486315e+00, -1.28440670e+00,\n",
       "        -1.31297673e+00],\n",
       "       [-1.26418478e+00,  8.00654259e-01, -1.22754100e+00,\n",
       "        -1.31297673e+00],\n",
       "       [-1.26418478e+00, -1.24957601e-01, -1.34127240e+00,\n",
       "        -1.44444970e+00],\n",
       "       [-1.87002413e+00, -1.24957601e-01, -1.51186952e+00,\n",
       "        -1.44444970e+00],\n",
       "       [-5.25060772e-02,  2.18907205e+00, -1.45500381e+00,\n",
       "        -1.31297673e+00],\n",
       "       [-1.73673948e-01,  3.11468391e+00, -1.28440670e+00,\n",
       "        -1.05003079e+00],\n",
       "       [-5.37177559e-01,  1.95766909e+00, -1.39813811e+00,\n",
       "        -1.05003079e+00],\n",
       "       [-9.00681170e-01,  1.03205722e+00, -1.34127240e+00,\n",
       "        -1.18150376e+00],\n",
       "       [-1.73673948e-01,  1.72626612e+00, -1.17067529e+00,\n",
       "        -1.18150376e+00],\n",
       "       [-9.00681170e-01,  1.72626612e+00, -1.28440670e+00,\n",
       "        -1.18150376e+00],\n",
       "       [-5.37177559e-01,  8.00654259e-01, -1.17067529e+00,\n",
       "        -1.31297673e+00],\n",
       "       [-9.00681170e-01,  1.49486315e+00, -1.28440670e+00,\n",
       "        -1.05003079e+00],\n",
       "       [-1.50652052e+00,  1.26346019e+00, -1.56873522e+00,\n",
       "        -1.31297673e+00],\n",
       "       [-9.00681170e-01,  5.69251294e-01, -1.17067529e+00,\n",
       "        -9.18557817e-01],\n",
       "       [-1.26418478e+00,  8.00654259e-01, -1.05694388e+00,\n",
       "        -1.31297673e+00],\n",
       "       [-1.02184904e+00, -1.24957601e-01, -1.22754100e+00,\n",
       "        -1.31297673e+00],\n",
       "       [-1.02184904e+00,  8.00654259e-01, -1.22754100e+00,\n",
       "        -1.05003079e+00],\n",
       "       [-7.79513300e-01,  1.03205722e+00, -1.28440670e+00,\n",
       "        -1.31297673e+00],\n",
       "       [-7.79513300e-01,  8.00654259e-01, -1.34127240e+00,\n",
       "        -1.31297673e+00],\n",
       "       [-1.38535265e+00,  3.37848329e-01, -1.22754100e+00,\n",
       "        -1.31297673e+00],\n",
       "       [-1.26418478e+00,  1.06445364e-01, -1.22754100e+00,\n",
       "        -1.31297673e+00],\n",
       "       [-5.37177559e-01,  8.00654259e-01, -1.28440670e+00,\n",
       "        -1.05003079e+00],\n",
       "       [-7.79513300e-01,  2.42047502e+00, -1.28440670e+00,\n",
       "        -1.44444970e+00],\n",
       "       [-4.16009689e-01,  2.65187798e+00, -1.34127240e+00,\n",
       "        -1.31297673e+00],\n",
       "       [-1.14301691e+00,  1.06445364e-01, -1.28440670e+00,\n",
       "        -1.44444970e+00],\n",
       "       [-1.02184904e+00,  3.37848329e-01, -1.45500381e+00,\n",
       "        -1.31297673e+00],\n",
       "       [-4.16009689e-01,  1.03205722e+00, -1.39813811e+00,\n",
       "        -1.31297673e+00],\n",
       "       [-1.14301691e+00,  1.06445364e-01, -1.28440670e+00,\n",
       "        -1.44444970e+00],\n",
       "       [-1.74885626e+00, -1.24957601e-01, -1.39813811e+00,\n",
       "        -1.31297673e+00],\n",
       "       [-9.00681170e-01,  8.00654259e-01, -1.28440670e+00,\n",
       "        -1.31297673e+00],\n",
       "       [-1.02184904e+00,  1.03205722e+00, -1.39813811e+00,\n",
       "        -1.18150376e+00],\n",
       "       [-1.62768839e+00, -1.74477836e+00, -1.39813811e+00,\n",
       "        -1.18150376e+00],\n",
       "       [-1.74885626e+00,  3.37848329e-01, -1.39813811e+00,\n",
       "        -1.31297673e+00],\n",
       "       [-1.02184904e+00,  1.03205722e+00, -1.22754100e+00,\n",
       "        -7.87084847e-01],\n",
       "       [-9.00681170e-01,  1.72626612e+00, -1.05694388e+00,\n",
       "        -1.05003079e+00],\n",
       "       [-1.26418478e+00, -1.24957601e-01, -1.34127240e+00,\n",
       "        -1.18150376e+00],\n",
       "       [-9.00681170e-01,  1.72626612e+00, -1.22754100e+00,\n",
       "        -1.31297673e+00],\n",
       "       [-1.50652052e+00,  3.37848329e-01, -1.34127240e+00,\n",
       "        -1.31297673e+00],\n",
       "       [-6.58345429e-01,  1.49486315e+00, -1.28440670e+00,\n",
       "        -1.31297673e+00],\n",
       "       [-1.02184904e+00,  5.69251294e-01, -1.34127240e+00,\n",
       "        -1.31297673e+00],\n",
       "       [ 1.40150837e+00,  3.37848329e-01,  5.35295827e-01,\n",
       "         2.64698913e-01],\n",
       "       [ 6.74501145e-01,  3.37848329e-01,  4.21564419e-01,\n",
       "         3.96171883e-01],\n",
       "       [ 1.28034050e+00,  1.06445364e-01,  6.49027235e-01,\n",
       "         3.96171883e-01],\n",
       "       [-4.16009689e-01, -1.74477836e+00,  1.37235899e-01,\n",
       "         1.33225943e-01],\n",
       "       [ 7.95669016e-01, -5.87763531e-01,  4.78430123e-01,\n",
       "         3.96171883e-01],\n",
       "       [-1.73673948e-01, -5.87763531e-01,  4.21564419e-01,\n",
       "         1.33225943e-01],\n",
       "       [ 5.53333275e-01,  5.69251294e-01,  5.35295827e-01,\n",
       "         5.27644853e-01],\n",
       "       [-1.14301691e+00, -1.51337539e+00, -2.60824029e-01,\n",
       "        -2.61192967e-01],\n",
       "       [ 9.16836886e-01, -3.56360566e-01,  4.78430123e-01,\n",
       "         1.33225943e-01],\n",
       "       [-7.79513300e-01, -8.19166497e-01,  8.03701950e-02,\n",
       "         2.64698913e-01],\n",
       "       [-1.02184904e+00, -2.43898725e+00, -1.47092621e-01,\n",
       "        -2.61192967e-01],\n",
       "       [ 6.86617933e-02, -1.24957601e-01,  2.50967307e-01,\n",
       "         3.96171883e-01],\n",
       "       [ 1.89829664e-01, -1.97618132e+00,  1.37235899e-01,\n",
       "        -2.61192967e-01],\n",
       "       [ 3.10997534e-01, -3.56360566e-01,  5.35295827e-01,\n",
       "         2.64698913e-01],\n",
       "       [-2.94841818e-01, -3.56360566e-01, -9.02269170e-02,\n",
       "         1.33225943e-01],\n",
       "       [ 1.03800476e+00,  1.06445364e-01,  3.64698715e-01,\n",
       "         2.64698913e-01],\n",
       "       [-2.94841818e-01, -1.24957601e-01,  4.21564419e-01,\n",
       "         3.96171883e-01],\n",
       "       [-5.25060772e-02, -8.19166497e-01,  1.94101603e-01,\n",
       "        -2.61192967e-01],\n",
       "       [ 4.32165405e-01, -1.97618132e+00,  4.21564419e-01,\n",
       "         3.96171883e-01],\n",
       "       [-2.94841818e-01, -1.28197243e+00,  8.03701950e-02,\n",
       "        -1.29719997e-01],\n",
       "       [ 6.86617933e-02,  3.37848329e-01,  5.92161531e-01,\n",
       "         7.90590793e-01],\n",
       "       [ 3.10997534e-01, -5.87763531e-01,  1.37235899e-01,\n",
       "         1.33225943e-01],\n",
       "       [ 5.53333275e-01, -1.28197243e+00,  6.49027235e-01,\n",
       "         3.96171883e-01],\n",
       "       [ 3.10997534e-01, -5.87763531e-01,  5.35295827e-01,\n",
       "         1.75297293e-03],\n",
       "       [ 6.74501145e-01, -3.56360566e-01,  3.07833011e-01,\n",
       "         1.33225943e-01],\n",
       "       [ 9.16836886e-01, -1.24957601e-01,  3.64698715e-01,\n",
       "         2.64698913e-01],\n",
       "       [ 1.15917263e+00, -5.87763531e-01,  5.92161531e-01,\n",
       "         2.64698913e-01],\n",
       "       [ 1.03800476e+00, -1.24957601e-01,  7.05892939e-01,\n",
       "         6.59117823e-01],\n",
       "       [ 1.89829664e-01, -3.56360566e-01,  4.21564419e-01,\n",
       "         3.96171883e-01],\n",
       "       [-1.73673948e-01, -1.05056946e+00, -1.47092621e-01,\n",
       "        -2.61192967e-01],\n",
       "       [-4.16009689e-01, -1.51337539e+00,  2.35044910e-02,\n",
       "        -1.29719997e-01],\n",
       "       [-4.16009689e-01, -1.51337539e+00, -3.33612130e-02,\n",
       "        -2.61192967e-01],\n",
       "       [-5.25060772e-02, -8.19166497e-01,  8.03701950e-02,\n",
       "         1.75297293e-03],\n",
       "       [ 1.89829664e-01, -8.19166497e-01,  7.62758643e-01,\n",
       "         5.27644853e-01],\n",
       "       [-5.37177559e-01, -1.24957601e-01,  4.21564419e-01,\n",
       "         3.96171883e-01],\n",
       "       [ 1.89829664e-01,  8.00654259e-01,  4.21564419e-01,\n",
       "         5.27644853e-01],\n",
       "       [ 1.03800476e+00,  1.06445364e-01,  5.35295827e-01,\n",
       "         3.96171883e-01],\n",
       "       [ 5.53333275e-01, -1.74477836e+00,  3.64698715e-01,\n",
       "         1.33225943e-01],\n",
       "       [-2.94841818e-01, -1.24957601e-01,  1.94101603e-01,\n",
       "         1.33225943e-01],\n",
       "       [-4.16009689e-01, -1.28197243e+00,  1.37235899e-01,\n",
       "         1.33225943e-01],\n",
       "       [-4.16009689e-01, -1.05056946e+00,  3.64698715e-01,\n",
       "         1.75297293e-03],\n",
       "       [ 3.10997534e-01, -1.24957601e-01,  4.78430123e-01,\n",
       "         2.64698913e-01],\n",
       "       [-5.25060772e-02, -1.05056946e+00,  1.37235899e-01,\n",
       "         1.75297293e-03],\n",
       "       [-1.02184904e+00, -1.74477836e+00, -2.60824029e-01,\n",
       "        -2.61192967e-01],\n",
       "       [-2.94841818e-01, -8.19166497e-01,  2.50967307e-01,\n",
       "         1.33225943e-01],\n",
       "       [-1.73673948e-01, -1.24957601e-01,  2.50967307e-01,\n",
       "         1.75297293e-03],\n",
       "       [-1.73673948e-01, -3.56360566e-01,  2.50967307e-01,\n",
       "         1.33225943e-01],\n",
       "       [ 4.32165405e-01, -3.56360566e-01,  3.07833011e-01,\n",
       "         1.33225943e-01],\n",
       "       [-9.00681170e-01, -1.28197243e+00, -4.31421141e-01,\n",
       "        -1.29719997e-01],\n",
       "       [-1.73673948e-01, -5.87763531e-01,  1.94101603e-01,\n",
       "         1.33225943e-01]])"
      ]
     },
     "execution_count": 282,
     "metadata": {},
     "output_type": "execute_result"
    }
   ],
   "source": [
    "#对数据和标签处理成二分类模式\n",
    "data_12 = features[0:100]\n",
    "data_13 = np.concatenate((features[0:50],features[100:150]),axis=0)#按行合并\n",
    "data_23 = features[50:150]\n",
    "\n",
    "label_12 = label[0:100]\n",
    "label_13 = np.concatenate((label[0:50],label[100:150]),axis=0)\n",
    "label_23 = label[50:150]"
   ]
  },
  {
   "cell_type": "markdown",
   "metadata": {},
   "source": [
    "## 训练第一二类的分类器"
   ]
  },
  {
   "cell_type": "code",
   "execution_count": 277,
   "metadata": {},
   "outputs": [
    {
     "name": "stdout",
     "output_type": "stream",
     "text": [
      "\n",
      "------------------第 0 轮\n",
      "训练完毕！权重为[[-1.        ]\n",
      " [-0.4321654 ]\n",
      " [ 1.05056946]\n",
      " [-1.6157442 ]\n",
      " [-1.97384752]]\n"
     ]
    },
    {
     "data": {
      "image/png": "[encoded data removed]",
      "text/plain": [
       "<Figure size 360x360 with 2 Axes>"
      ]
     },
     "metadata": {
      "needs_background": "light"
     },
     "output_type": "display_data"
    },
    {
     "name": "stdout",
     "output_type": "stream",
     "text": [
      "\n",
      "------------------第 1 轮\n",
      "训练完毕！权重为[[-1.        ]\n",
      " [-0.4321654 ]\n",
      " [ 1.51337539]\n",
      " [-2.63932687]\n",
      " [-2.4997394 ]]\n"
     ]
    },
    {
     "data": {
      "image/png": "[encoded data removed]",
      "text/plain": [
       "<Figure size 360x360 with 2 Axes>"
      ]
     },
     "metadata": {
      "needs_background": "light"
     },
     "output_type": "display_data"
    },
    {
     "name": "stdout",
     "output_type": "stream",
     "text": [
      "\n",
      "------------------第 2 轮\n",
      "训练完毕！权重为[[-1.        ]\n",
      " [-0.4321654 ]\n",
      " [ 1.51337539]\n",
      " [-2.63932687]\n",
      " [-2.4997394 ]]\n"
     ]
    },
    {
     "data": {
      "image/png": "[encoded data removed]",
      "text/plain": [
       "<Figure size 360x360 with 2 Axes>"
      ]
     },
     "metadata": {
      "needs_background": "light"
     },
     "output_type": "display_data"
    },
    {
     "name": "stdout",
     "output_type": "stream",
     "text": [
      "\n",
      "------------------第 3 轮\n",
      "训练完毕！权重为[[ 0.        ]\n",
      " [-0.24233574]\n",
      " [ 2.31402965]\n",
      " [-2.21776246]\n",
      " [-1.97209455]]\n"
     ]
    },
    {
     "data": {
      "image/png": "[encoded data removed]",
      "text/plain": [
       "<Figure size 360x360 with 2 Axes>"
      ]
     },
     "metadata": {
      "needs_background": "light"
     },
     "output_type": "display_data"
    },
    {
     "name": "stdout",
     "output_type": "stream",
     "text": [
      "\n",
      "------------------第 4 轮\n",
      "训练完毕！权重为[[-1.        ]\n",
      " [ 0.05250608]\n",
      " [ 1.74477836]\n",
      " [-1.50201279]\n",
      " [-1.57942861]]\n"
     ]
    },
    {
     "data": {
      "image/png": "[encoded data removed]",
      "text/plain": [
       "<Figure size 360x360 with 2 Axes>"
      ]
     },
     "metadata": {
      "needs_background": "light"
     },
     "output_type": "display_data"
    }
   ],
   "source": [
    "#使用5折分层交叉验证训练12类分类器\n",
    "count = 0#计数器\n",
    "weight_12 = []#储存权重的列表\n",
    "kfold = StratifiedKFold(n_splits=5)#实例化\n",
    "for train_index,test_index in kfold.split(data_12,label_12):\n",
    "    print(\"\\n------------------第\",count,\"轮\")\n",
    "    X_train,X_test=data_12[train_index],data_12[test_index]#划分X空间\n",
    "    y_train,y_test=label_12[train_index],label_12[test_index]\n",
    "\n",
    "    module = Perceptron(X_train,y_train,X_test,y_test)#模型实例化\n",
    "    module.train()\n",
    "    module.test()\n",
    "    weight_12.append(module.get_weight())#权重存进列表\n",
    "    count += 1"
   ]
  },
  {
   "cell_type": "markdown",
   "metadata": {},
   "source": [
    "## 训练第一三类的分类器"
   ]
  },
  {
   "cell_type": "code",
   "execution_count": 278,
   "metadata": {},
   "outputs": [
    {
     "name": "stdout",
     "output_type": "stream",
     "text": [
      "\n",
      "------------------第 0 轮\n",
      "训练完毕！权重为[[ 1.        ]\n",
      " [-0.53717756]\n",
      " [ 1.49486315]\n",
      " [-1.2844067 ]\n",
      " [-1.31297673]]\n"
     ]
    },
    {
     "data": {
      "image/png": "[encoded data removed]",
      "text/plain": [
       "<Figure size 360x360 with 2 Axes>"
      ]
     },
     "metadata": {
      "needs_background": "light"
     },
     "output_type": "display_data"
    },
    {
     "name": "stdout",
     "output_type": "stream",
     "text": [
      "\n",
      "------------------第 1 轮\n",
      "训练完毕！权重为[[ 1.        ]\n",
      " [-0.90068117]\n",
      " [ 1.03205722]\n",
      " [-1.3412724 ]\n",
      " [-1.31297673]]\n"
     ]
    },
    {
     "data": {
      "image/png": "[encoded data removed]",
      "text/plain": [
       "<Figure size 360x360 with 2 Axes>"
      ]
     },
     "metadata": {
      "needs_background": "light"
     },
     "output_type": "display_data"
    },
    {
     "name": "stdout",
     "output_type": "stream",
     "text": [
      "\n",
      "------------------第 2 轮\n",
      "训练完毕！权重为[[ 1.        ]\n",
      " [-0.90068117]\n",
      " [ 1.03205722]\n",
      " [-1.3412724 ]\n",
      " [-1.31297673]]\n"
     ]
    },
    {
     "data": {
      "image/png": "[encoded data removed]",
      "text/plain": [
       "<Figure size 360x360 with 2 Axes>"
      ]
     },
     "metadata": {
      "needs_background": "light"
     },
     "output_type": "display_data"
    },
    {
     "name": "stdout",
     "output_type": "stream",
     "text": [
      "\n",
      "------------------第 3 轮\n",
      "训练完毕！权重为[[ 1.        ]\n",
      " [-0.90068117]\n",
      " [ 1.03205722]\n",
      " [-1.3412724 ]\n",
      " [-1.31297673]]\n"
     ]
    },
    {
     "data": {
      "image/png": "[encoded data removed]",
      "text/plain": [
       "<Figure size 360x360 with 2 Axes>"
      ]
     },
     "metadata": {
      "needs_background": "light"
     },
     "output_type": "display_data"
    },
    {
     "name": "stdout",
     "output_type": "stream",
     "text": [
      "\n",
      "------------------第 4 轮\n",
      "训练完毕！权重为[[ 1.        ]\n",
      " [-0.90068117]\n",
      " [ 1.03205722]\n",
      " [-1.3412724 ]\n",
      " [-1.31297673]]\n"
     ]
    },
    {
     "data": {
      "image/png": "[encoded data removed]",
      "text/plain": [
       "<Figure size 360x360 with 2 Axes>"
      ]
     },
     "metadata": {
      "needs_background": "light"
     },
     "output_type": "display_data"
    }
   ],
   "source": [
    "#使用5折分层交叉验证训练12类分类器\n",
    "count = 0#计数器\n",
    "weight_13 = []#储存权重的列表\n",
    "kfold = StratifiedKFold(n_splits=5)#实例化\n",
    "for train_index,test_index in kfold.split(data_13,label_13):\n",
    "    print(\"\\n------------------第\",count,\"轮\")\n",
    "    X_train,X_test=data_13[train_index],data_13[test_index]#划分X空间\n",
    "    y_train,y_test=label_13[train_index],label_13[test_index]\n",
    "\n",
    "    module = Perceptron(X_train,y_train,X_test,y_test)#模型实例化\n",
    "    module.train()\n",
    "    module.test()\n",
    "    weight_13.append(module.get_weight())#权重存进列表\n",
    "    count += 1"
   ]
  },
  {
   "cell_type": "markdown",
   "metadata": {},
   "source": [
    "## 训练第二三类的分类器\n",
    "***\n",
    "- 此处遇到了问题，第二三类是线性不可分的！我们引入了一个最大迭代次数来迫使算法退出\n"
   ]
  },
  {
   "cell_type": "code",
   "execution_count": 279,
   "metadata": {},
   "outputs": [
    {
     "name": "stdout",
     "output_type": "stream",
     "text": [
      "\n",
      "------------------第 0 轮\n",
      "训练完毕！权重为[[ 37.        ]\n",
      " [  0.60180042]\n",
      " [  6.48391108]\n",
      " [-33.13602482]\n",
      " [-23.73174757]]\n"
     ]
    },
    {
     "data": {
      "image/png": "[encoded data removed]",
      "text/plain": [
       "<Figure size 360x360 with 2 Axes>"
      ]
     },
     "metadata": {
      "needs_background": "light"
     },
     "output_type": "display_data"
    },
    {
     "name": "stdout",
     "output_type": "stream",
     "text": [
      "\n",
      "------------------第 1 轮\n",
      "训练完毕！权重为[[ 26.        ]\n",
      " [  1.17936727]\n",
      " [  4.85020615]\n",
      " [-18.15456555]\n",
      " [-20.33273306]]\n"
     ]
    },
    {
     "data": {
      "image/png": "[encoded data removed]",
      "text/plain": [
       "<Figure size 360x360 with 2 Axes>"
      ]
     },
     "metadata": {
      "needs_background": "light"
     },
     "output_type": "display_data"
    },
    {
     "name": "stdout",
     "output_type": "stream",
     "text": [
      "\n",
      "------------------第 2 轮\n",
      "训练完毕！权重为[[ 11.        ]\n",
      " [  2.45162991]\n",
      " [  0.93949604]\n",
      " [-15.4363849 ]\n",
      " [ -6.02847392]]\n"
     ]
    },
    {
     "data": {
      "image/png": "[encoded data removed]",
      "text/plain": [
       "<Figure size 360x360 with 2 Axes>"
      ]
     },
     "metadata": {
      "needs_background": "light"
     },
     "output_type": "display_data"
    },
    {
     "name": "stdout",
     "output_type": "stream",
     "text": [
      "\n",
      "------------------第 3 轮\n",
      "训练完毕！权重为[[ 12.        ]\n",
      " [  2.88379532]\n",
      " [  1.97155326]\n",
      " [-12.22840099]\n",
      " [ -6.15819392]]\n"
     ]
    },
    {
     "data": {
      "image/png": "[encoded data removed]",
      "text/plain": [
       "<Figure size 360x360 with 2 Axes>"
      ]
     },
     "metadata": {
      "needs_background": "light"
     },
     "output_type": "display_data"
    },
    {
     "name": "stdout",
     "output_type": "stream",
     "text": [
      "\n",
      "------------------第 4 轮\n",
      "训练完毕！权重为[[ 27.        ]\n",
      " [  3.42905073]\n",
      " [  4.72524855]\n",
      " [-26.37658814]\n",
      " [-18.88477741]]\n"
     ]
    },
    {
     "data": {
      "image/png": "[encoded data removed]",
      "text/plain": [
       "<Figure size 360x360 with 2 Axes>"
      ]
     },
     "metadata": {
      "needs_background": "light"
     },
     "output_type": "display_data"
    }
   ],
   "source": [
    "#使用5折分层交叉验证训练12类分类器\n",
    "count = 0#计数器\n",
    "weight_23 = []#储存权重的列表\n",
    "kfold = StratifiedKFold(n_splits=5)#实例化\n",
    "for train_index,test_index in kfold.split(data_23,label_23):\n",
    "    print(\"\\n------------------第\",count,\"轮\")\n",
    "    X_train,X_test=data_23[train_index],data_23[test_index]#划分X空间\n",
    "    y_train,y_test=label_23[train_index],label_23[test_index]\n",
    "\n",
    "    module = Perceptron(X_train,y_train,X_test,y_test)#模型实例化\n",
    "    module.train()\n",
    "    module.test()\n",
    "    weight_23.append(module.get_weight())#权重存进列表\n",
    "    count += 1"
   ]
  },
  {
   "cell_type": "markdown",
   "metadata": {},
   "source": [
    "# 将三个分类器集成\n",
    "***\n",
    "- 观察上面的混淆矩阵，选取三个权重列表中的第一个权重用于实现三分类"
   ]
  },
  {
   "cell_type": "code",
   "execution_count": 280,
   "metadata": {},
   "outputs": [],
   "source": [
    "w_12 = weight_12[0]\n",
    "w_13 = weight_13[0]\n",
    "w_23 = weight_23[0]"
   ]
  },
  {
   "cell_type": "markdown",
   "metadata": {},
   "source": [
    "## 使用上面三个分类器对全部样本进行分类"
   ]
  },
  {
   "cell_type": "code",
   "execution_count": 300,
   "metadata": {},
   "outputs": [],
   "source": [
    "#对数据进行增广处理\n",
    "data = features\n",
    "lenth = features.shape[0]\n",
    "one_vector = np.ones(lenth).reshape(-1,1)\n",
    "data = np.concatenate((one_vector,data),axis=1)#增广"
   ]
  },
  {
   "cell_type": "code",
   "execution_count": 291,
   "metadata": {},
   "outputs": [],
   "source": [
    "def prediction(sample,w12,w13,w23):\n",
    "    \"\"\"\n",
    "        对某一个数据进行分类，由三个分类器投票决定i\n",
    "        ------------------------------\n",
    "        sample是待预测样本\n",
    "        w是三个权重向量\n",
    "    \"\"\"\n",
    "    #投票信息\n",
    "    class1 = 0#第一类票数\n",
    "    class2 = 0#第二类票数\n",
    "    class3 = 0\n",
    "    #分类器进行决策\n",
    "    if np.sign(sample@w12) == 1:\n",
    "        class1 += 1\n",
    "    else:\n",
    "        class2 += 1\n",
    "        \n",
    "    if np.sign(sample@w13) == 1:\n",
    "        class1 += 1\n",
    "    else:\n",
    "        class3 += 1\n",
    "        \n",
    "    if np.sign(sample@w23) == 1:\n",
    "        class2 += 1\n",
    "    else:\n",
    "        class3 += 1\n",
    "    \n",
    "    #投票决定最终分类\n",
    "    vote_box = np.array([class1,class2,class3])#投票箱\n",
    "    index = np.argmax(vote_box)#返回最大下标，此处下标恰好是label\n",
    "    return index#返回类别"
   ]
  },
  {
   "cell_type": "code",
   "execution_count": 294,
   "metadata": {},
   "outputs": [],
   "source": [
    "#进行分类\n",
    "hypothesis = []#预测的类别号，即分类结果\n",
    "for i in range(data.shape[0]):#遍历所有样本\n",
    "    hypothesis.append(prediction(data[i],w_12,w_13,w_23))"
   ]
  },
  {
   "cell_type": "markdown",
   "metadata": {},
   "source": [
    "## 绘制混淆矩阵"
   ]
  },
  {
   "cell_type": "code",
   "execution_count": 305,
   "metadata": {},
   "outputs": [],
   "source": [
    "from sklearn.metrics import confusion_matrix#混淆矩阵\n",
    "y_true = label #真实\n",
    "y_pred = hypothesis#预测\n",
    "names = ['Iris-setosa','Iris-Versicolor','Iris-Virginica']\n",
    "matrix = confusion_matrix(y_true,y_pred)"
   ]
  },
  {
   "cell_type": "code",
   "execution_count": 314,
   "metadata": {},
   "outputs": [
    {
     "data": {
      "image/png": "[encoded data removed]",
      "text/plain": [
       "<Figure size 432x360 with 2 Axes>"
      ]
     },
     "metadata": {
      "needs_background": "light"
     },
     "output_type": "display_data"
    }
   ],
   "source": [
    "#绘制混淆矩阵\n",
    "plt.figure(figsize=(6,5))\n",
    "sn.heatmap(matrix,annot=True,fmt='d',cmap=plt.cm.Blues)#绘制混淆矩阵\n",
    "plt.xlabel('Predict',fontsize = 8)\n",
    "plt.ylabel('Ture',fontsize = 8)\n",
    "plt.title('Confusion Matrix',fontsize = 10)\n",
    "plt.show()"
   ]
  },
  {
   "cell_type": "markdown",
   "metadata": {},
   "source": [
    "## 计算OA，AA"
   ]
  },
  {
   "cell_type": "code",
   "execution_count": 318,
   "metadata": {},
   "outputs": [
    {
     "name": "stdout",
     "output_type": "stream",
     "text": [
      "Overall Accuracy:0.98  Average Accuracy:0.98\n"
     ]
    }
   ],
   "source": [
    "Overall = (50+47+50)/150\n",
    "AA = (50/50+47/50+50/50)/3\n",
    "print(f'Overall Accuracy:{Overall}  Average Accuracy:{AA}')"
   ]
  }
 ],
 "metadata": {
  "kernelspec": {
   "display_name": "Python 3",
   "language": "python",
   "name": "python3"
  },
  "language_info": {
   "codemirror_mode": {
    "name": "ipython",
    "version": 3
   },
   "file_extension": ".py",
   "mimetype": "text/x-python",
   "name": "python",
   "nbconvert_exporter": "python",
   "pygments_lexer": "ipython3",
   "version": "3.7.0"
  }
 },
 "nbformat": 4,
 "nbformat_minor": 2
}
